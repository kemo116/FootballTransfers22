{
 "cells": [
  {
   "cell_type": "markdown",
   "id": "8c303d1b",
   "metadata": {},
   "source": [
    "# <font color='black'>Data Pre-Processing</font>"
   ]
  },
  {
   "cell_type": "code",
   "execution_count": 2,
   "id": "60a35b3e",
   "metadata": {},
   "outputs": [],
   "source": [
    "import pandas as pd\n",
    "import numpy as np\n",
    "import seaborn as sns\n",
    "\n",
    "import pandas.plotting\n",
    "import matplotlib.pyplot as plt\n",
    "import matplotlib.mlab as mlab\n",
    "import matplotlib\n",
    "plt.style.use('ggplot')\n",
    "from matplotlib.pyplot import figure\n",
    "from matplotlib.pyplot import hist\n",
    "\n",
    "%matplotlib inline\n",
    "matplotlib.rcParams['figure.figsize'] = (12,8)\n",
    "\n",
    "pd.options.mode.chained_assignment = None\n",
    "\n",
    "\n",
    "\n",
    "df = pd.read_csv(r'C:\\Users\\karee\\Downloads\\Summer22_FootballTransfers.csv\\Summer22_FootballTransfers.csv')"
   ]
  },
  {
   "cell_type": "markdown",
   "id": "72900320",
   "metadata": {},
   "source": [
    "# <font color='black'>Loading Our Data Set</font>"
   ]
  },
  {
   "cell_type": "code",
   "execution_count": 3,
   "id": "e2ef72d7",
   "metadata": {
    "scrolled": false
   },
   "outputs": [
    {
     "data": {
      "text/html": [
       "<div>\n",
       "<style scoped>\n",
       "    .dataframe tbody tr th:only-of-type {\n",
       "        vertical-align: middle;\n",
       "    }\n",
       "\n",
       "    .dataframe tbody tr th {\n",
       "        vertical-align: top;\n",
       "    }\n",
       "\n",
       "    .dataframe thead th {\n",
       "        text-align: right;\n",
       "    }\n",
       "</style>\n",
       "<table border=\"1\" class=\"dataframe\">\n",
       "  <thead>\n",
       "    <tr style=\"text-align: right;\">\n",
       "      <th></th>\n",
       "      <th>name</th>\n",
       "      <th>position</th>\n",
       "      <th>age</th>\n",
       "      <th>origin_club</th>\n",
       "      <th>league_origin_club</th>\n",
       "      <th>country_origin_club</th>\n",
       "      <th>new_club</th>\n",
       "      <th>league_new_club</th>\n",
       "      <th>country_new_club</th>\n",
       "      <th>cost</th>\n",
       "      <th>date_of_transfer</th>\n",
       "    </tr>\n",
       "  </thead>\n",
       "  <tbody>\n",
       "    <tr>\n",
       "      <th>0</th>\n",
       "      <td>Amine Gouiri</td>\n",
       "      <td>Centre-Forward</td>\n",
       "      <td>22.0</td>\n",
       "      <td>OGC Nice</td>\n",
       "      <td>Ligue 1</td>\n",
       "      <td>France</td>\n",
       "      <td>Stade Rennais FC</td>\n",
       "      <td>Ligue 1</td>\n",
       "      <td>France</td>\n",
       "      <td>€42.00m</td>\n",
       "      <td>9/1/2022</td>\n",
       "    </tr>\n",
       "    <tr>\n",
       "      <th>1</th>\n",
       "      <td>Umar Sadiq</td>\n",
       "      <td>Centre-Forward</td>\n",
       "      <td>25.0</td>\n",
       "      <td>UD Almería</td>\n",
       "      <td>LaLiga</td>\n",
       "      <td>Spain</td>\n",
       "      <td>Real Sociedad</td>\n",
       "      <td>LaLiga</td>\n",
       "      <td>Spain</td>\n",
       "      <td>€18.00m</td>\n",
       "      <td>9/1/2022</td>\n",
       "    </tr>\n",
       "    <tr>\n",
       "      <th>2</th>\n",
       "      <td>Carlos Soler</td>\n",
       "      <td>Central Midfield</td>\n",
       "      <td>25.0</td>\n",
       "      <td>Valencia CF</td>\n",
       "      <td>LaLiga</td>\n",
       "      <td>Spain</td>\n",
       "      <td>Paris Saint-Germain</td>\n",
       "      <td>Ligue 1</td>\n",
       "      <td>France</td>\n",
       "      <td>€50.00m</td>\n",
       "      <td>9/1/2022</td>\n",
       "    </tr>\n",
       "    <tr>\n",
       "      <th>3</th>\n",
       "      <td>Manuel Akanji</td>\n",
       "      <td>Centre-Back</td>\n",
       "      <td>27.0</td>\n",
       "      <td>Borussia Dortmund</td>\n",
       "      <td>Bundesliga</td>\n",
       "      <td>Germany</td>\n",
       "      <td>Manchester City</td>\n",
       "      <td>Premier League</td>\n",
       "      <td>England</td>\n",
       "      <td>€30.00m</td>\n",
       "      <td>9/1/2022</td>\n",
       "    </tr>\n",
       "    <tr>\n",
       "      <th>4</th>\n",
       "      <td>Wout Faes</td>\n",
       "      <td>Centre-Back</td>\n",
       "      <td>24.0</td>\n",
       "      <td>Stade Reims</td>\n",
       "      <td>Ligue 1</td>\n",
       "      <td>France</td>\n",
       "      <td>Leicester City</td>\n",
       "      <td>Premier League</td>\n",
       "      <td>England</td>\n",
       "      <td>€10.00m</td>\n",
       "      <td>9/1/2022</td>\n",
       "    </tr>\n",
       "  </tbody>\n",
       "</table>\n",
       "</div>"
      ],
      "text/plain": [
       "            name          position   age        origin_club  \\\n",
       "0   Amine Gouiri    Centre-Forward  22.0           OGC Nice   \n",
       "1     Umar Sadiq    Centre-Forward  25.0         UD Almería   \n",
       "2   Carlos Soler  Central Midfield  25.0        Valencia CF   \n",
       "3  Manuel Akanji       Centre-Back  27.0  Borussia Dortmund   \n",
       "4      Wout Faes       Centre-Back  24.0        Stade Reims   \n",
       "\n",
       "  league_origin_club country_origin_club             new_club league_new_club  \\\n",
       "0            Ligue 1              France     Stade Rennais FC         Ligue 1   \n",
       "1             LaLiga               Spain        Real Sociedad          LaLiga   \n",
       "2             LaLiga               Spain  Paris Saint-Germain         Ligue 1   \n",
       "3         Bundesliga             Germany      Manchester City  Premier League   \n",
       "4            Ligue 1              France       Leicester City  Premier League   \n",
       "\n",
       "  country_new_club     cost date_of_transfer  \n",
       "0           France  €42.00m         9/1/2022  \n",
       "1            Spain  €18.00m         9/1/2022  \n",
       "2           France  €50.00m         9/1/2022  \n",
       "3          England  €30.00m         9/1/2022  \n",
       "4          England  €10.00m         9/1/2022  "
      ]
     },
     "execution_count": 3,
     "metadata": {},
     "output_type": "execute_result"
    }
   ],
   "source": [
    "df.head()"
   ]
  },
  {
   "cell_type": "markdown",
   "id": "360a0eae",
   "metadata": {},
   "source": [
    "# <font color='black'>Changing The Players Status to Free Agent</font>"
   ]
  },
  {
   "cell_type": "code",
   "execution_count": 4,
   "id": "99aebbd4",
   "metadata": {},
   "outputs": [],
   "source": [
    "df['origin_club'].loc[df['origin_club']=='Without Club'].replace('Without Club', 'Free Agent', inplace= True)\n",
    "df['origin_club'].loc[df['origin_club']=='Disqualification'].replace('Disqualification', 'Free Agent', inplace= True)\n",
    "df['origin_club'].loc[df['origin_club']=='Career Break'].replace('Career Break', 'Free Agent', inplace= True)\n",
    "df['origin_club'].loc[df['origin_club']=='Unknown'].replace('Unknown', 'Free Agent', inplace= True)"
   ]
  },
  {
   "cell_type": "code",
   "execution_count": 5,
   "id": "bb951ec4",
   "metadata": {
    "scrolled": true
   },
   "outputs": [
    {
     "data": {
      "text/html": [
       "<div>\n",
       "<style scoped>\n",
       "    .dataframe tbody tr th:only-of-type {\n",
       "        vertical-align: middle;\n",
       "    }\n",
       "\n",
       "    .dataframe tbody tr th {\n",
       "        vertical-align: top;\n",
       "    }\n",
       "\n",
       "    .dataframe thead th {\n",
       "        text-align: right;\n",
       "    }\n",
       "</style>\n",
       "<table border=\"1\" class=\"dataframe\">\n",
       "  <thead>\n",
       "    <tr style=\"text-align: right;\">\n",
       "      <th></th>\n",
       "      <th>name</th>\n",
       "      <th>position</th>\n",
       "      <th>age</th>\n",
       "      <th>origin_club</th>\n",
       "      <th>league_origin_club</th>\n",
       "      <th>country_origin_club</th>\n",
       "      <th>new_club</th>\n",
       "      <th>league_new_club</th>\n",
       "      <th>country_new_club</th>\n",
       "      <th>cost</th>\n",
       "      <th>date_of_transfer</th>\n",
       "    </tr>\n",
       "  </thead>\n",
       "  <tbody>\n",
       "    <tr>\n",
       "      <th>0</th>\n",
       "      <td>Amine Gouiri</td>\n",
       "      <td>Centre-Forward</td>\n",
       "      <td>22.0</td>\n",
       "      <td>OGC Nice</td>\n",
       "      <td>Ligue 1</td>\n",
       "      <td>France</td>\n",
       "      <td>Stade Rennais FC</td>\n",
       "      <td>Ligue 1</td>\n",
       "      <td>France</td>\n",
       "      <td>€42.00m</td>\n",
       "      <td>9/1/2022</td>\n",
       "    </tr>\n",
       "    <tr>\n",
       "      <th>1</th>\n",
       "      <td>Umar Sadiq</td>\n",
       "      <td>Centre-Forward</td>\n",
       "      <td>25.0</td>\n",
       "      <td>UD Almería</td>\n",
       "      <td>LaLiga</td>\n",
       "      <td>Spain</td>\n",
       "      <td>Real Sociedad</td>\n",
       "      <td>LaLiga</td>\n",
       "      <td>Spain</td>\n",
       "      <td>€18.00m</td>\n",
       "      <td>9/1/2022</td>\n",
       "    </tr>\n",
       "    <tr>\n",
       "      <th>2</th>\n",
       "      <td>Carlos Soler</td>\n",
       "      <td>Central Midfield</td>\n",
       "      <td>25.0</td>\n",
       "      <td>Valencia CF</td>\n",
       "      <td>LaLiga</td>\n",
       "      <td>Spain</td>\n",
       "      <td>Paris Saint-Germain</td>\n",
       "      <td>Ligue 1</td>\n",
       "      <td>France</td>\n",
       "      <td>€50.00m</td>\n",
       "      <td>9/1/2022</td>\n",
       "    </tr>\n",
       "    <tr>\n",
       "      <th>3</th>\n",
       "      <td>Manuel Akanji</td>\n",
       "      <td>Centre-Back</td>\n",
       "      <td>27.0</td>\n",
       "      <td>Borussia Dortmund</td>\n",
       "      <td>Bundesliga</td>\n",
       "      <td>Germany</td>\n",
       "      <td>Manchester City</td>\n",
       "      <td>Premier League</td>\n",
       "      <td>England</td>\n",
       "      <td>€30.00m</td>\n",
       "      <td>9/1/2022</td>\n",
       "    </tr>\n",
       "    <tr>\n",
       "      <th>4</th>\n",
       "      <td>Wout Faes</td>\n",
       "      <td>Centre-Back</td>\n",
       "      <td>24.0</td>\n",
       "      <td>Stade Reims</td>\n",
       "      <td>Ligue 1</td>\n",
       "      <td>France</td>\n",
       "      <td>Leicester City</td>\n",
       "      <td>Premier League</td>\n",
       "      <td>England</td>\n",
       "      <td>€10.00m</td>\n",
       "      <td>9/1/2022</td>\n",
       "    </tr>\n",
       "  </tbody>\n",
       "</table>\n",
       "</div>"
      ],
      "text/plain": [
       "            name          position   age        origin_club  \\\n",
       "0   Amine Gouiri    Centre-Forward  22.0           OGC Nice   \n",
       "1     Umar Sadiq    Centre-Forward  25.0         UD Almería   \n",
       "2   Carlos Soler  Central Midfield  25.0        Valencia CF   \n",
       "3  Manuel Akanji       Centre-Back  27.0  Borussia Dortmund   \n",
       "4      Wout Faes       Centre-Back  24.0        Stade Reims   \n",
       "\n",
       "  league_origin_club country_origin_club             new_club league_new_club  \\\n",
       "0            Ligue 1              France     Stade Rennais FC         Ligue 1   \n",
       "1             LaLiga               Spain        Real Sociedad          LaLiga   \n",
       "2             LaLiga               Spain  Paris Saint-Germain         Ligue 1   \n",
       "3         Bundesliga             Germany      Manchester City  Premier League   \n",
       "4            Ligue 1              France       Leicester City  Premier League   \n",
       "\n",
       "  country_new_club     cost date_of_transfer  \n",
       "0           France  €42.00m         9/1/2022  \n",
       "1            Spain  €18.00m         9/1/2022  \n",
       "2           France  €50.00m         9/1/2022  \n",
       "3          England  €30.00m         9/1/2022  \n",
       "4          England  €10.00m         9/1/2022  "
      ]
     },
     "execution_count": 5,
     "metadata": {},
     "output_type": "execute_result"
    }
   ],
   "source": [
    "df.head()"
   ]
  },
  {
   "cell_type": "markdown",
   "id": "aa68e793",
   "metadata": {},
   "source": [
    "# <font color='black'>Filling The Nulls</font>"
   ]
  },
  {
   "cell_type": "code",
   "execution_count": 6,
   "id": "054846e0",
   "metadata": {},
   "outputs": [
    {
     "data": {
      "text/plain": [
       "0            France\n",
       "1             Spain\n",
       "2             Spain\n",
       "3           Germany\n",
       "4            France\n",
       "            ...    \n",
       "33620    Kazakhstan\n",
       "33621       Romania\n",
       "33622       Romania\n",
       "33623      Bulgaria\n",
       "33624       Tunisia\n",
       "Name: country_origin_club, Length: 33625, dtype: object"
      ]
     },
     "execution_count": 6,
     "metadata": {},
     "output_type": "execute_result"
    }
   ],
   "source": [
    "df['league_origin_club'].fillna(value = 'Free Agent')\n",
    "df['country_origin_club'].fillna(value = 'Free Agent')"
   ]
  },
  {
   "cell_type": "code",
   "execution_count": 7,
   "id": "adeafa01",
   "metadata": {},
   "outputs": [
    {
     "data": {
      "text/plain": [
       "name                      0\n",
       "position                  0\n",
       "age                     143\n",
       "origin_club               0\n",
       "league_origin_club      929\n",
       "country_origin_club     929\n",
       "new_club                  0\n",
       "league_new_club        5570\n",
       "country_new_club       5570\n",
       "cost                      0\n",
       "date_of_transfer          0\n",
       "dtype: int64"
      ]
     },
     "execution_count": 7,
     "metadata": {},
     "output_type": "execute_result"
    }
   ],
   "source": [
    "df.isnull().sum()"
   ]
  },
  {
   "cell_type": "code",
   "execution_count": 8,
   "id": "d62d9d2f",
   "metadata": {},
   "outputs": [
    {
     "data": {
      "text/html": [
       "<div>\n",
       "<style scoped>\n",
       "    .dataframe tbody tr th:only-of-type {\n",
       "        vertical-align: middle;\n",
       "    }\n",
       "\n",
       "    .dataframe tbody tr th {\n",
       "        vertical-align: top;\n",
       "    }\n",
       "\n",
       "    .dataframe thead th {\n",
       "        text-align: right;\n",
       "    }\n",
       "</style>\n",
       "<table border=\"1\" class=\"dataframe\">\n",
       "  <thead>\n",
       "    <tr style=\"text-align: right;\">\n",
       "      <th></th>\n",
       "      <th>name</th>\n",
       "      <th>position</th>\n",
       "      <th>age</th>\n",
       "      <th>origin_club</th>\n",
       "      <th>league_origin_club</th>\n",
       "      <th>country_origin_club</th>\n",
       "      <th>new_club</th>\n",
       "      <th>league_new_club</th>\n",
       "      <th>country_new_club</th>\n",
       "      <th>cost</th>\n",
       "      <th>date_of_transfer</th>\n",
       "    </tr>\n",
       "  </thead>\n",
       "  <tbody>\n",
       "    <tr>\n",
       "      <th>0</th>\n",
       "      <td>Amine Gouiri</td>\n",
       "      <td>Centre-Forward</td>\n",
       "      <td>22.0</td>\n",
       "      <td>OGC Nice</td>\n",
       "      <td>Ligue 1</td>\n",
       "      <td>France</td>\n",
       "      <td>Stade Rennais FC</td>\n",
       "      <td>Ligue 1</td>\n",
       "      <td>France</td>\n",
       "      <td>€42.00m</td>\n",
       "      <td>9/1/2022</td>\n",
       "    </tr>\n",
       "    <tr>\n",
       "      <th>1</th>\n",
       "      <td>Umar Sadiq</td>\n",
       "      <td>Centre-Forward</td>\n",
       "      <td>25.0</td>\n",
       "      <td>UD Almería</td>\n",
       "      <td>LaLiga</td>\n",
       "      <td>Spain</td>\n",
       "      <td>Real Sociedad</td>\n",
       "      <td>LaLiga</td>\n",
       "      <td>Spain</td>\n",
       "      <td>€18.00m</td>\n",
       "      <td>9/1/2022</td>\n",
       "    </tr>\n",
       "    <tr>\n",
       "      <th>2</th>\n",
       "      <td>Carlos Soler</td>\n",
       "      <td>Central Midfield</td>\n",
       "      <td>25.0</td>\n",
       "      <td>Valencia CF</td>\n",
       "      <td>LaLiga</td>\n",
       "      <td>Spain</td>\n",
       "      <td>Paris Saint-Germain</td>\n",
       "      <td>Ligue 1</td>\n",
       "      <td>France</td>\n",
       "      <td>€50.00m</td>\n",
       "      <td>9/1/2022</td>\n",
       "    </tr>\n",
       "    <tr>\n",
       "      <th>3</th>\n",
       "      <td>Manuel Akanji</td>\n",
       "      <td>Centre-Back</td>\n",
       "      <td>27.0</td>\n",
       "      <td>Borussia Dortmund</td>\n",
       "      <td>Bundesliga</td>\n",
       "      <td>Germany</td>\n",
       "      <td>Manchester City</td>\n",
       "      <td>Premier League</td>\n",
       "      <td>England</td>\n",
       "      <td>€30.00m</td>\n",
       "      <td>9/1/2022</td>\n",
       "    </tr>\n",
       "    <tr>\n",
       "      <th>4</th>\n",
       "      <td>Wout Faes</td>\n",
       "      <td>Centre-Back</td>\n",
       "      <td>24.0</td>\n",
       "      <td>Stade Reims</td>\n",
       "      <td>Ligue 1</td>\n",
       "      <td>France</td>\n",
       "      <td>Leicester City</td>\n",
       "      <td>Premier League</td>\n",
       "      <td>England</td>\n",
       "      <td>€10.00m</td>\n",
       "      <td>9/1/2022</td>\n",
       "    </tr>\n",
       "  </tbody>\n",
       "</table>\n",
       "</div>"
      ],
      "text/plain": [
       "            name          position   age        origin_club  \\\n",
       "0   Amine Gouiri    Centre-Forward  22.0           OGC Nice   \n",
       "1     Umar Sadiq    Centre-Forward  25.0         UD Almería   \n",
       "2   Carlos Soler  Central Midfield  25.0        Valencia CF   \n",
       "3  Manuel Akanji       Centre-Back  27.0  Borussia Dortmund   \n",
       "4      Wout Faes       Centre-Back  24.0        Stade Reims   \n",
       "\n",
       "  league_origin_club country_origin_club             new_club league_new_club  \\\n",
       "0            Ligue 1              France     Stade Rennais FC         Ligue 1   \n",
       "1             LaLiga               Spain        Real Sociedad          LaLiga   \n",
       "2             LaLiga               Spain  Paris Saint-Germain         Ligue 1   \n",
       "3         Bundesliga             Germany      Manchester City  Premier League   \n",
       "4            Ligue 1              France       Leicester City  Premier League   \n",
       "\n",
       "  country_new_club     cost date_of_transfer  \n",
       "0           France  €42.00m         9/1/2022  \n",
       "1            Spain  €18.00m         9/1/2022  \n",
       "2           France  €50.00m         9/1/2022  \n",
       "3          England  €30.00m         9/1/2022  \n",
       "4          England  €10.00m         9/1/2022  "
      ]
     },
     "execution_count": 8,
     "metadata": {},
     "output_type": "execute_result"
    }
   ],
   "source": [
    "df['league_origin_club']= df['league_origin_club'].fillna(method ='pad', axis=0)\n",
    "df['country_origin_club']= df['country_origin_club'].fillna(method ='pad', axis=0)\n",
    "df['league_new_club']= df['league_new_club'].fillna(method ='pad', axis=0)\n",
    "df['country_new_club']= df['country_new_club'].fillna(method ='pad', axis=0)\n",
    "df.head()"
   ]
  },
  {
   "cell_type": "code",
   "execution_count": 9,
   "id": "82a0c2d0",
   "metadata": {},
   "outputs": [
    {
     "data": {
      "text/plain": [
       "name                     0\n",
       "position                 0\n",
       "age                    143\n",
       "origin_club              0\n",
       "league_origin_club       0\n",
       "country_origin_club      0\n",
       "new_club                 0\n",
       "league_new_club          0\n",
       "country_new_club         0\n",
       "cost                     0\n",
       "date_of_transfer         0\n",
       "dtype: int64"
      ]
     },
     "execution_count": 9,
     "metadata": {},
     "output_type": "execute_result"
    }
   ],
   "source": [
    "df.isnull().sum()"
   ]
  },
  {
   "cell_type": "code",
   "execution_count": 10,
   "id": "72f8bf02",
   "metadata": {
    "scrolled": true
   },
   "outputs": [
    {
     "data": {
      "text/plain": [
       "name                    object\n",
       "position                object\n",
       "age                    float64\n",
       "origin_club             object\n",
       "league_origin_club      object\n",
       "country_origin_club     object\n",
       "new_club                object\n",
       "league_new_club         object\n",
       "country_new_club        object\n",
       "cost                    object\n",
       "date_of_transfer        object\n",
       "dtype: object"
      ]
     },
     "execution_count": 10,
     "metadata": {},
     "output_type": "execute_result"
    }
   ],
   "source": [
    "df.dtypes"
   ]
  },
  {
   "cell_type": "markdown",
   "id": "38052718",
   "metadata": {},
   "source": [
    "# <font color='black'>Changing The DataTypes Of Columns</font>"
   ]
  },
  {
   "cell_type": "code",
   "execution_count": 13,
   "id": "25f91e7b",
   "metadata": {},
   "outputs": [],
   "source": [
    "def clean_currency(x):\n",
    "    \"\"\" If the value is a string, then remove currency symbol and delimiters\n",
    "    otherwise, the value is numeric and can be converted\n",
    "    \"\"\"\n",
    "    if isinstance(x, str):\n",
    "        return(x.replace('€', '').replace('.', '').replace('m', '0000').replace('Th','0'))\n",
    "    return(x)"
   ]
  },
  {
   "cell_type": "code",
   "execution_count": 14,
   "id": "d1d9356b",
   "metadata": {},
   "outputs": [],
   "source": [
    "df['cost'] = df['cost'].apply(clean_currency).astype('long')"
   ]
  },
  {
   "cell_type": "code",
   "execution_count": 15,
   "id": "26bafaa9",
   "metadata": {},
   "outputs": [],
   "source": [
    "df = df.sort_values(by:=['cost'], inplace=False, ascending=False)"
   ]
  },
  {
   "cell_type": "code",
   "execution_count": 22,
   "id": "cb70eba3",
   "metadata": {},
   "outputs": [],
   "source": [
    "df['date_of_transfer'] = pd.to_datetime(df['date_of_transfer'])"
   ]
  },
  {
   "cell_type": "code",
   "execution_count": 16,
   "id": "b962a0e8",
   "metadata": {},
   "outputs": [
    {
     "data": {
      "text/html": [
       "<div>\n",
       "<style scoped>\n",
       "    .dataframe tbody tr th:only-of-type {\n",
       "        vertical-align: middle;\n",
       "    }\n",
       "\n",
       "    .dataframe tbody tr th {\n",
       "        vertical-align: top;\n",
       "    }\n",
       "\n",
       "    .dataframe thead th {\n",
       "        text-align: right;\n",
       "    }\n",
       "</style>\n",
       "<table border=\"1\" class=\"dataframe\">\n",
       "  <thead>\n",
       "    <tr style=\"text-align: right;\">\n",
       "      <th></th>\n",
       "      <th>name</th>\n",
       "      <th>position</th>\n",
       "      <th>age</th>\n",
       "      <th>origin_club</th>\n",
       "      <th>league_origin_club</th>\n",
       "      <th>country_origin_club</th>\n",
       "      <th>new_club</th>\n",
       "      <th>league_new_club</th>\n",
       "      <th>country_new_club</th>\n",
       "      <th>cost</th>\n",
       "      <th>date_of_transfer</th>\n",
       "    </tr>\n",
       "  </thead>\n",
       "  <tbody>\n",
       "    <tr>\n",
       "      <th>19252</th>\n",
       "      <td>Erling Haaland</td>\n",
       "      <td>Centre-Forward</td>\n",
       "      <td>21.0</td>\n",
       "      <td>Borussia Dortmund</td>\n",
       "      <td>Bundesliga</td>\n",
       "      <td>Germany</td>\n",
       "      <td>Manchester City</td>\n",
       "      <td>Premier League</td>\n",
       "      <td>England</td>\n",
       "      <td>150000000</td>\n",
       "      <td>7/1/2022</td>\n",
       "    </tr>\n",
       "    <tr>\n",
       "      <th>12700</th>\n",
       "      <td>Matthijs de Ligt</td>\n",
       "      <td>Centre-Back</td>\n",
       "      <td>22.0</td>\n",
       "      <td>Juventus FC</td>\n",
       "      <td>Serie A</td>\n",
       "      <td>Italy</td>\n",
       "      <td>Bayern Munich</td>\n",
       "      <td>Bundesliga</td>\n",
       "      <td>Germany</td>\n",
       "      <td>70000000</td>\n",
       "      <td>7/19/2022</td>\n",
       "    </tr>\n",
       "    <tr>\n",
       "      <th>19261</th>\n",
       "      <td>Sadio Mané</td>\n",
       "      <td>Left Winger</td>\n",
       "      <td>30.0</td>\n",
       "      <td>Liverpool FC</td>\n",
       "      <td>Premier League</td>\n",
       "      <td>England</td>\n",
       "      <td>Bayern Munich</td>\n",
       "      <td>Bundesliga</td>\n",
       "      <td>Germany</td>\n",
       "      <td>70000000</td>\n",
       "      <td>7/1/2022</td>\n",
       "    </tr>\n",
       "    <tr>\n",
       "      <th>19303</th>\n",
       "      <td>Romelu Lukaku</td>\n",
       "      <td>Centre-Forward</td>\n",
       "      <td>29.0</td>\n",
       "      <td>Chelsea FC</td>\n",
       "      <td>Premier League</td>\n",
       "      <td>England</td>\n",
       "      <td>Inter Milan</td>\n",
       "      <td>Serie A</td>\n",
       "      <td>Italy</td>\n",
       "      <td>70000000</td>\n",
       "      <td>7/1/2022</td>\n",
       "    </tr>\n",
       "    <tr>\n",
       "      <th>15126</th>\n",
       "      <td>Raheem Sterling</td>\n",
       "      <td>Left Winger</td>\n",
       "      <td>27.0</td>\n",
       "      <td>Manchester City</td>\n",
       "      <td>Premier League</td>\n",
       "      <td>England</td>\n",
       "      <td>Chelsea FC</td>\n",
       "      <td>Premier League</td>\n",
       "      <td>England</td>\n",
       "      <td>70000000</td>\n",
       "      <td>7/13/2022</td>\n",
       "    </tr>\n",
       "  </tbody>\n",
       "</table>\n",
       "</div>"
      ],
      "text/plain": [
       "                   name        position   age        origin_club  \\\n",
       "19252    Erling Haaland  Centre-Forward  21.0  Borussia Dortmund   \n",
       "12700  Matthijs de Ligt     Centre-Back  22.0        Juventus FC   \n",
       "19261        Sadio Mané     Left Winger  30.0       Liverpool FC   \n",
       "19303     Romelu Lukaku  Centre-Forward  29.0         Chelsea FC   \n",
       "15126   Raheem Sterling     Left Winger  27.0    Manchester City   \n",
       "\n",
       "      league_origin_club country_origin_club         new_club league_new_club  \\\n",
       "19252         Bundesliga             Germany  Manchester City  Premier League   \n",
       "12700            Serie A               Italy    Bayern Munich      Bundesliga   \n",
       "19261     Premier League             England    Bayern Munich      Bundesliga   \n",
       "19303     Premier League             England      Inter Milan         Serie A   \n",
       "15126     Premier League             England       Chelsea FC  Premier League   \n",
       "\n",
       "      country_new_club       cost date_of_transfer  \n",
       "19252          England  150000000         7/1/2022  \n",
       "12700          Germany   70000000        7/19/2022  \n",
       "19261          Germany   70000000         7/1/2022  \n",
       "19303            Italy   70000000         7/1/2022  \n",
       "15126          England   70000000        7/13/2022  "
      ]
     },
     "execution_count": 16,
     "metadata": {},
     "output_type": "execute_result"
    }
   ],
   "source": [
    "df.head()"
   ]
  },
  {
   "cell_type": "code",
   "execution_count": 17,
   "id": "a2553c9f",
   "metadata": {},
   "outputs": [
    {
     "data": {
      "text/plain": [
       "array([21., 22., 30., 29., 27., 24., 23., 26., 25., 33., 20., 28., 31.,\n",
       "       19., 18., 32., 34., 35., 17., 37., 36., 39., 16., 38., 40., nan,\n",
       "       43., 42., 41., 45., 15., 44., 46.])"
      ]
     },
     "execution_count": 17,
     "metadata": {},
     "output_type": "execute_result"
    }
   ],
   "source": [
    "df['age'].unique()"
   ]
  },
  {
   "cell_type": "markdown",
   "id": "fd58c54a",
   "metadata": {},
   "source": [
    "# <font color='black'>Getting Rid of the Nulls</font>"
   ]
  },
  {
   "cell_type": "code",
   "execution_count": 18,
   "id": "a52594f5",
   "metadata": {
    "scrolled": true
   },
   "outputs": [],
   "source": [
    "df = df.dropna()"
   ]
  },
  {
   "cell_type": "code",
   "execution_count": 19,
   "id": "bd335631",
   "metadata": {},
   "outputs": [
    {
     "data": {
      "text/plain": [
       "name                   0\n",
       "position               0\n",
       "age                    0\n",
       "origin_club            0\n",
       "league_origin_club     0\n",
       "country_origin_club    0\n",
       "new_club               0\n",
       "league_new_club        0\n",
       "country_new_club       0\n",
       "cost                   0\n",
       "date_of_transfer       0\n",
       "dtype: int64"
      ]
     },
     "execution_count": 19,
     "metadata": {},
     "output_type": "execute_result"
    }
   ],
   "source": [
    "df.isnull().sum()"
   ]
  },
  {
   "cell_type": "code",
   "execution_count": 20,
   "id": "70315e50",
   "metadata": {},
   "outputs": [],
   "source": [
    "df['age'] = df['age'].astype('int64') "
   ]
  },
  {
   "cell_type": "code",
   "execution_count": 23,
   "id": "80eb689c",
   "metadata": {
    "scrolled": true
   },
   "outputs": [
    {
     "data": {
      "text/html": [
       "<div>\n",
       "<style scoped>\n",
       "    .dataframe tbody tr th:only-of-type {\n",
       "        vertical-align: middle;\n",
       "    }\n",
       "\n",
       "    .dataframe tbody tr th {\n",
       "        vertical-align: top;\n",
       "    }\n",
       "\n",
       "    .dataframe thead th {\n",
       "        text-align: right;\n",
       "    }\n",
       "</style>\n",
       "<table border=\"1\" class=\"dataframe\">\n",
       "  <thead>\n",
       "    <tr style=\"text-align: right;\">\n",
       "      <th></th>\n",
       "      <th>name</th>\n",
       "      <th>position</th>\n",
       "      <th>age</th>\n",
       "      <th>origin_club</th>\n",
       "      <th>league_origin_club</th>\n",
       "      <th>country_origin_club</th>\n",
       "      <th>new_club</th>\n",
       "      <th>league_new_club</th>\n",
       "      <th>country_new_club</th>\n",
       "      <th>cost</th>\n",
       "      <th>date_of_transfer</th>\n",
       "    </tr>\n",
       "  </thead>\n",
       "  <tbody>\n",
       "    <tr>\n",
       "      <th>19252</th>\n",
       "      <td>Erling Haaland</td>\n",
       "      <td>Centre-Forward</td>\n",
       "      <td>21</td>\n",
       "      <td>Borussia Dortmund</td>\n",
       "      <td>Bundesliga</td>\n",
       "      <td>Germany</td>\n",
       "      <td>Manchester City</td>\n",
       "      <td>Premier League</td>\n",
       "      <td>England</td>\n",
       "      <td>150000000</td>\n",
       "      <td>2022-07-01</td>\n",
       "    </tr>\n",
       "    <tr>\n",
       "      <th>12700</th>\n",
       "      <td>Matthijs de Ligt</td>\n",
       "      <td>Centre-Back</td>\n",
       "      <td>22</td>\n",
       "      <td>Juventus FC</td>\n",
       "      <td>Serie A</td>\n",
       "      <td>Italy</td>\n",
       "      <td>Bayern Munich</td>\n",
       "      <td>Bundesliga</td>\n",
       "      <td>Germany</td>\n",
       "      <td>70000000</td>\n",
       "      <td>2022-07-19</td>\n",
       "    </tr>\n",
       "    <tr>\n",
       "      <th>19261</th>\n",
       "      <td>Sadio Mané</td>\n",
       "      <td>Left Winger</td>\n",
       "      <td>30</td>\n",
       "      <td>Liverpool FC</td>\n",
       "      <td>Premier League</td>\n",
       "      <td>England</td>\n",
       "      <td>Bayern Munich</td>\n",
       "      <td>Bundesliga</td>\n",
       "      <td>Germany</td>\n",
       "      <td>70000000</td>\n",
       "      <td>2022-07-01</td>\n",
       "    </tr>\n",
       "    <tr>\n",
       "      <th>19303</th>\n",
       "      <td>Romelu Lukaku</td>\n",
       "      <td>Centre-Forward</td>\n",
       "      <td>29</td>\n",
       "      <td>Chelsea FC</td>\n",
       "      <td>Premier League</td>\n",
       "      <td>England</td>\n",
       "      <td>Inter Milan</td>\n",
       "      <td>Serie A</td>\n",
       "      <td>Italy</td>\n",
       "      <td>70000000</td>\n",
       "      <td>2022-07-01</td>\n",
       "    </tr>\n",
       "    <tr>\n",
       "      <th>15126</th>\n",
       "      <td>Raheem Sterling</td>\n",
       "      <td>Left Winger</td>\n",
       "      <td>27</td>\n",
       "      <td>Manchester City</td>\n",
       "      <td>Premier League</td>\n",
       "      <td>England</td>\n",
       "      <td>Chelsea FC</td>\n",
       "      <td>Premier League</td>\n",
       "      <td>England</td>\n",
       "      <td>70000000</td>\n",
       "      <td>2022-07-13</td>\n",
       "    </tr>\n",
       "  </tbody>\n",
       "</table>\n",
       "</div>"
      ],
      "text/plain": [
       "                   name        position  age        origin_club  \\\n",
       "19252    Erling Haaland  Centre-Forward   21  Borussia Dortmund   \n",
       "12700  Matthijs de Ligt     Centre-Back   22        Juventus FC   \n",
       "19261        Sadio Mané     Left Winger   30       Liverpool FC   \n",
       "19303     Romelu Lukaku  Centre-Forward   29         Chelsea FC   \n",
       "15126   Raheem Sterling     Left Winger   27    Manchester City   \n",
       "\n",
       "      league_origin_club country_origin_club         new_club league_new_club  \\\n",
       "19252         Bundesliga             Germany  Manchester City  Premier League   \n",
       "12700            Serie A               Italy    Bayern Munich      Bundesliga   \n",
       "19261     Premier League             England    Bayern Munich      Bundesliga   \n",
       "19303     Premier League             England      Inter Milan         Serie A   \n",
       "15126     Premier League             England       Chelsea FC  Premier League   \n",
       "\n",
       "      country_new_club       cost date_of_transfer  \n",
       "19252          England  150000000       2022-07-01  \n",
       "12700          Germany   70000000       2022-07-19  \n",
       "19261          Germany   70000000       2022-07-01  \n",
       "19303            Italy   70000000       2022-07-01  \n",
       "15126          England   70000000       2022-07-13  "
      ]
     },
     "execution_count": 23,
     "metadata": {},
     "output_type": "execute_result"
    }
   ],
   "source": [
    "df.head()"
   ]
  },
  {
   "cell_type": "markdown",
   "id": "4cc29d87",
   "metadata": {},
   "source": [
    "# <font color='black'>Showing All the Transfers OUT And Into The Top 5 leagues</font>"
   ]
  },
  {
   "cell_type": "code",
   "execution_count": 24,
   "id": "317f8c0b",
   "metadata": {},
   "outputs": [],
   "source": [
    "#PremierLeague = df[(df['league_origin_club']=='Premier League') & (df['country_origin_club']== 'England')\n",
    " #   | (df['league_new_club']=='Premier League') & (df['country_new_club']== 'England')]\n",
    "\n",
    "#Liga = df[(df['league_origin_club']=='La Liga') & (df['country_origin_club']== 'Spain')\n",
    " #   | (df['league_new_club']=='La Liga') & (df['country_new_club']== 'Spain')]\n",
    "\n",
    "#EgyptianLeague = df[(df['league_origin_club']=='Premier League') & (df['country_origin_club']== 'Egypt')\n",
    " #   | (df['league_new_club']=='Premier League') & (df['country_new_club']== 'Egypt')]\n",
    "\n",
    "#Ligue1 = df[(df['league_origin_club']=='Ligue 1') & (df['country_origin_club']== 'France')\n",
    " #   | (df['league_new_club']=='Ligue 1') & (df['country_new_club']== 'France')]\n",
    "\n",
    "\n",
    "#SerieA = df[(df['league_origin_club']=='Serie A') & (df['country_origin_club']== 'Italy')\n",
    " #   | (df['league_new_club']=='Serie A') & (df['country_new_club']== 'Italy')]\n",
    "\n",
    "\n",
    "#BundesLiga = df[(df['league_origin_club']=='Bundesliga') & (df['country_origin_club']== 'Germany')\n",
    " #   | (df['league_new_club']=='Bundesliga') & (df['country_new_club']== 'Germany')]\n",
    "\n"
   ]
  },
  {
   "cell_type": "code",
   "execution_count": 25,
   "id": "536dd437",
   "metadata": {
    "scrolled": true
   },
   "outputs": [
    {
     "data": {
      "text/html": [
       "<div>\n",
       "<style scoped>\n",
       "    .dataframe tbody tr th:only-of-type {\n",
       "        vertical-align: middle;\n",
       "    }\n",
       "\n",
       "    .dataframe tbody tr th {\n",
       "        vertical-align: top;\n",
       "    }\n",
       "\n",
       "    .dataframe thead th {\n",
       "        text-align: right;\n",
       "    }\n",
       "</style>\n",
       "<table border=\"1\" class=\"dataframe\">\n",
       "  <thead>\n",
       "    <tr style=\"text-align: right;\">\n",
       "      <th></th>\n",
       "      <th>name</th>\n",
       "      <th>position</th>\n",
       "      <th>age</th>\n",
       "      <th>origin_club</th>\n",
       "      <th>league_origin_club</th>\n",
       "      <th>country_origin_club</th>\n",
       "      <th>new_club</th>\n",
       "      <th>league_new_club</th>\n",
       "      <th>country_new_club</th>\n",
       "      <th>cost</th>\n",
       "      <th>date_of_transfer</th>\n",
       "    </tr>\n",
       "  </thead>\n",
       "  <tbody>\n",
       "    <tr>\n",
       "      <th>19252</th>\n",
       "      <td>Erling Haaland</td>\n",
       "      <td>Centre-Forward</td>\n",
       "      <td>21</td>\n",
       "      <td>Borussia Dortmund</td>\n",
       "      <td>Bundesliga</td>\n",
       "      <td>Germany</td>\n",
       "      <td>Manchester City</td>\n",
       "      <td>Premier League</td>\n",
       "      <td>England</td>\n",
       "      <td>150000000</td>\n",
       "      <td>2022-07-01</td>\n",
       "    </tr>\n",
       "    <tr>\n",
       "      <th>19261</th>\n",
       "      <td>Sadio Mané</td>\n",
       "      <td>Left Winger</td>\n",
       "      <td>30</td>\n",
       "      <td>Liverpool FC</td>\n",
       "      <td>Premier League</td>\n",
       "      <td>England</td>\n",
       "      <td>Bayern Munich</td>\n",
       "      <td>Bundesliga</td>\n",
       "      <td>Germany</td>\n",
       "      <td>70000000</td>\n",
       "      <td>2022-07-01</td>\n",
       "    </tr>\n",
       "    <tr>\n",
       "      <th>19303</th>\n",
       "      <td>Romelu Lukaku</td>\n",
       "      <td>Centre-Forward</td>\n",
       "      <td>29</td>\n",
       "      <td>Chelsea FC</td>\n",
       "      <td>Premier League</td>\n",
       "      <td>England</td>\n",
       "      <td>Inter Milan</td>\n",
       "      <td>Serie A</td>\n",
       "      <td>Italy</td>\n",
       "      <td>70000000</td>\n",
       "      <td>2022-07-01</td>\n",
       "    </tr>\n",
       "    <tr>\n",
       "      <th>15126</th>\n",
       "      <td>Raheem Sterling</td>\n",
       "      <td>Left Winger</td>\n",
       "      <td>27</td>\n",
       "      <td>Manchester City</td>\n",
       "      <td>Premier League</td>\n",
       "      <td>England</td>\n",
       "      <td>Chelsea FC</td>\n",
       "      <td>Premier League</td>\n",
       "      <td>England</td>\n",
       "      <td>70000000</td>\n",
       "      <td>2022-07-13</td>\n",
       "    </tr>\n",
       "    <tr>\n",
       "      <th>19251</th>\n",
       "      <td>Darwin Núñez</td>\n",
       "      <td>Centre-Forward</td>\n",
       "      <td>23</td>\n",
       "      <td>SL Benfica</td>\n",
       "      <td>Liga Portugal</td>\n",
       "      <td>Portugal</td>\n",
       "      <td>Liverpool FC</td>\n",
       "      <td>Premier League</td>\n",
       "      <td>England</td>\n",
       "      <td>55000000</td>\n",
       "      <td>2022-07-01</td>\n",
       "    </tr>\n",
       "  </tbody>\n",
       "</table>\n",
       "</div>"
      ],
      "text/plain": [
       "                  name        position  age        origin_club  \\\n",
       "19252   Erling Haaland  Centre-Forward   21  Borussia Dortmund   \n",
       "19261       Sadio Mané     Left Winger   30       Liverpool FC   \n",
       "19303    Romelu Lukaku  Centre-Forward   29         Chelsea FC   \n",
       "15126  Raheem Sterling     Left Winger   27    Manchester City   \n",
       "19251     Darwin Núñez  Centre-Forward   23         SL Benfica   \n",
       "\n",
       "      league_origin_club country_origin_club         new_club league_new_club  \\\n",
       "19252         Bundesliga             Germany  Manchester City  Premier League   \n",
       "19261     Premier League             England    Bayern Munich      Bundesliga   \n",
       "19303     Premier League             England      Inter Milan         Serie A   \n",
       "15126     Premier League             England       Chelsea FC  Premier League   \n",
       "19251      Liga Portugal            Portugal     Liverpool FC  Premier League   \n",
       "\n",
       "      country_new_club       cost date_of_transfer  \n",
       "19252          England  150000000       2022-07-01  \n",
       "19261          Germany   70000000       2022-07-01  \n",
       "19303            Italy   70000000       2022-07-01  \n",
       "15126          England   70000000       2022-07-13  \n",
       "19251          England   55000000       2022-07-01  "
      ]
     },
     "execution_count": 25,
     "metadata": {},
     "output_type": "execute_result"
    }
   ],
   "source": [
    "#TransfersTop5 = pd.concat([PremierLeague, Liga, Ligue1, SerieA, BundesLiga])\n",
    "#TransfersTop5.head()"
   ]
  },
  {
   "cell_type": "markdown",
   "id": "b62e83ee",
   "metadata": {},
   "source": [
    "## <font color='black'>Showing The Transfer Market For The Premier League Only</font>"
   ]
  },
  {
   "cell_type": "code",
   "execution_count": 24,
   "id": "e085bfaa",
   "metadata": {
    "scrolled": true
   },
   "outputs": [
    {
     "data": {
      "text/html": [
       "<div>\n",
       "<style scoped>\n",
       "    .dataframe tbody tr th:only-of-type {\n",
       "        vertical-align: middle;\n",
       "    }\n",
       "\n",
       "    .dataframe tbody tr th {\n",
       "        vertical-align: top;\n",
       "    }\n",
       "\n",
       "    .dataframe thead th {\n",
       "        text-align: right;\n",
       "    }\n",
       "</style>\n",
       "<table border=\"1\" class=\"dataframe\">\n",
       "  <thead>\n",
       "    <tr style=\"text-align: right;\">\n",
       "      <th></th>\n",
       "      <th>name</th>\n",
       "      <th>position</th>\n",
       "      <th>age</th>\n",
       "      <th>origin_club</th>\n",
       "      <th>league_origin_club</th>\n",
       "      <th>country_origin_club</th>\n",
       "      <th>new_club</th>\n",
       "      <th>league_new_club</th>\n",
       "      <th>country_new_club</th>\n",
       "      <th>cost</th>\n",
       "      <th>date_of_transfer</th>\n",
       "    </tr>\n",
       "  </thead>\n",
       "  <tbody>\n",
       "    <tr>\n",
       "      <th>19252</th>\n",
       "      <td>Erling Haaland</td>\n",
       "      <td>Centre-Forward</td>\n",
       "      <td>21</td>\n",
       "      <td>Borussia Dortmund</td>\n",
       "      <td>Bundesliga</td>\n",
       "      <td>Germany</td>\n",
       "      <td>Manchester City</td>\n",
       "      <td>Premier League</td>\n",
       "      <td>England</td>\n",
       "      <td>150000000</td>\n",
       "      <td>2022-07-01</td>\n",
       "    </tr>\n",
       "    <tr>\n",
       "      <th>19261</th>\n",
       "      <td>Sadio Mané</td>\n",
       "      <td>Left Winger</td>\n",
       "      <td>30</td>\n",
       "      <td>Liverpool FC</td>\n",
       "      <td>Premier League</td>\n",
       "      <td>England</td>\n",
       "      <td>Bayern Munich</td>\n",
       "      <td>Bundesliga</td>\n",
       "      <td>Germany</td>\n",
       "      <td>70000000</td>\n",
       "      <td>2022-07-01</td>\n",
       "    </tr>\n",
       "    <tr>\n",
       "      <th>19303</th>\n",
       "      <td>Romelu Lukaku</td>\n",
       "      <td>Centre-Forward</td>\n",
       "      <td>29</td>\n",
       "      <td>Chelsea FC</td>\n",
       "      <td>Premier League</td>\n",
       "      <td>England</td>\n",
       "      <td>Inter Milan</td>\n",
       "      <td>Serie A</td>\n",
       "      <td>Italy</td>\n",
       "      <td>70000000</td>\n",
       "      <td>2022-07-01</td>\n",
       "    </tr>\n",
       "    <tr>\n",
       "      <th>15126</th>\n",
       "      <td>Raheem Sterling</td>\n",
       "      <td>Left Winger</td>\n",
       "      <td>27</td>\n",
       "      <td>Manchester City</td>\n",
       "      <td>Premier League</td>\n",
       "      <td>England</td>\n",
       "      <td>Chelsea FC</td>\n",
       "      <td>Premier League</td>\n",
       "      <td>England</td>\n",
       "      <td>70000000</td>\n",
       "      <td>2022-07-13</td>\n",
       "    </tr>\n",
       "    <tr>\n",
       "      <th>19251</th>\n",
       "      <td>Darwin Núñez</td>\n",
       "      <td>Centre-Forward</td>\n",
       "      <td>23</td>\n",
       "      <td>SL Benfica</td>\n",
       "      <td>Liga Portugal</td>\n",
       "      <td>Portugal</td>\n",
       "      <td>Liverpool FC</td>\n",
       "      <td>Premier League</td>\n",
       "      <td>England</td>\n",
       "      <td>55000000</td>\n",
       "      <td>2022-07-01</td>\n",
       "    </tr>\n",
       "  </tbody>\n",
       "</table>\n",
       "</div>"
      ],
      "text/plain": [
       "                  name        position  age        origin_club  \\\n",
       "19252   Erling Haaland  Centre-Forward   21  Borussia Dortmund   \n",
       "19261       Sadio Mané     Left Winger   30       Liverpool FC   \n",
       "19303    Romelu Lukaku  Centre-Forward   29         Chelsea FC   \n",
       "15126  Raheem Sterling     Left Winger   27    Manchester City   \n",
       "19251     Darwin Núñez  Centre-Forward   23         SL Benfica   \n",
       "\n",
       "      league_origin_club country_origin_club         new_club league_new_club  \\\n",
       "19252         Bundesliga             Germany  Manchester City  Premier League   \n",
       "19261     Premier League             England    Bayern Munich      Bundesliga   \n",
       "19303     Premier League             England      Inter Milan         Serie A   \n",
       "15126     Premier League             England       Chelsea FC  Premier League   \n",
       "19251      Liga Portugal            Portugal     Liverpool FC  Premier League   \n",
       "\n",
       "      country_new_club       cost date_of_transfer  \n",
       "19252          England  150000000       2022-07-01  \n",
       "19261          Germany   70000000       2022-07-01  \n",
       "19303            Italy   70000000       2022-07-01  \n",
       "15126          England   70000000       2022-07-13  \n",
       "19251          England   55000000       2022-07-01  "
      ]
     },
     "execution_count": 24,
     "metadata": {},
     "output_type": "execute_result"
    }
   ],
   "source": [
    "df[(df['league_origin_club']=='Premier League') & (df['country_origin_club']== 'England')\n",
    "    | (df['league_new_club']=='Premier League') & (df['country_new_club']== 'England')].head()"
   ]
  },
  {
   "cell_type": "markdown",
   "id": "c0f8a811",
   "metadata": {},
   "source": [
    "### <font color='black'>Number of Players Transfered Under the Age Of 30</font>"
   ]
  },
  {
   "cell_type": "code",
   "execution_count": 25,
   "id": "afc6d588",
   "metadata": {
    "scrolled": true
   },
   "outputs": [
    {
     "data": {
      "text/plain": [
       "27025"
      ]
     },
     "execution_count": 25,
     "metadata": {},
     "output_type": "execute_result"
    }
   ],
   "source": [
    "AgePreferance = df[(df['age'] < 30)]\n",
    "len(AgePreferance.index)"
   ]
  },
  {
   "cell_type": "markdown",
   "id": "1d13c51c",
   "metadata": {},
   "source": [
    "### <font color='black'>Number of Players Transfered Above the Age Of 30</font>"
   ]
  },
  {
   "cell_type": "code",
   "execution_count": 26,
   "id": "37c5306c",
   "metadata": {},
   "outputs": [
    {
     "data": {
      "text/plain": [
       "6457"
      ]
     },
     "execution_count": 26,
     "metadata": {},
     "output_type": "execute_result"
    }
   ],
   "source": [
    "Age_Preferance = df[(df['age'] >= 30)]\n",
    "len(Age_Preferance.index)"
   ]
  },
  {
   "cell_type": "markdown",
   "id": "0e2a60b4",
   "metadata": {},
   "source": [
    "### <font color='black'>Number of Players Purchased According To Their Positions</font>"
   ]
  },
  {
   "cell_type": "code",
   "execution_count": 36,
   "id": "d3a536b7",
   "metadata": {},
   "outputs": [
    {
     "data": {
      "text/plain": [
       "Centre-Back           198\n",
       "Centre-Forward        168\n",
       "Central Midfield      154\n",
       "Goalkeeper            122\n",
       "Left-Back              94\n",
       "Right-Back             93\n",
       "Defensive Midfield     86\n",
       "Left Winger            76\n",
       "Attacking Midfield     69\n",
       "Right Winger           68\n",
       "Right Midfield         16\n",
       "Second Striker         12\n",
       "Left Midfield           8\n",
       "Name: position, dtype: int64"
      ]
     },
     "execution_count": 36,
     "metadata": {},
     "output_type": "execute_result"
    }
   ],
   "source": [
    "TransfersTop5['position'].value_counts().head(13)"
   ]
  },
  {
   "cell_type": "code",
   "execution_count": 28,
   "id": "4481dd98",
   "metadata": {},
   "outputs": [
    {
     "data": {
      "text/plain": [
       "10015"
      ]
     },
     "execution_count": 28,
     "metadata": {},
     "output_type": "execute_result"
    }
   ],
   "source": [
    "AttackingPositions = df[\n",
    "    (df['position'] == 'Centre-Forward')\n",
    "    | (df['position'] =='Left Winger') \n",
    "    | (df['position'] =='Right Winger') \n",
    "    | (df['position'] =='attack') \n",
    "    | (df['position'] =='Second Striker')]\n",
    "len(AttackingPositions.index)"
   ]
  },
  {
   "cell_type": "code",
   "execution_count": 29,
   "id": "11c4736c",
   "metadata": {},
   "outputs": [
    {
     "data": {
      "text/plain": [
       "9778"
      ]
     },
     "execution_count": 29,
     "metadata": {},
     "output_type": "execute_result"
    }
   ],
   "source": [
    "MidfieldPositions = df[\n",
    "    (df['position'] == 'Central Midfield') \n",
    " |  (df['position'] =='Defensive Midfield') \n",
    " |  (df['position'] =='Left Midfield') \n",
    " |  (df['position'] =='Right Midfield') \n",
    " |  (df['position'] =='Attacking Midfield') \n",
    " |  (df['position'] =='midfield')]\n",
    "len(MidfieldPositions.index)"
   ]
  },
  {
   "cell_type": "code",
   "execution_count": 30,
   "id": "7c1fdcc8",
   "metadata": {},
   "outputs": [
    {
     "data": {
      "text/plain": [
       "13689"
      ]
     },
     "execution_count": 30,
     "metadata": {},
     "output_type": "execute_result"
    }
   ],
   "source": [
    "DefendingPositions = df[\n",
    "    (df['position'] == 'defence') \n",
    "    | (df['position'] =='Centre-Back') \n",
    "    | (df['position'] =='Left-Back') \n",
    "    | (df['position'] =='Right-Back') \n",
    "    | (df['position'] =='Goalkeeper')]\n",
    "len(DefendingPositions.index)"
   ]
  },
  {
   "cell_type": "code",
   "execution_count": 31,
   "id": "57025a91",
   "metadata": {
    "scrolled": true
   },
   "outputs": [
    {
     "data": {
      "text/html": [
       "<div>\n",
       "<style scoped>\n",
       "    .dataframe tbody tr th:only-of-type {\n",
       "        vertical-align: middle;\n",
       "    }\n",
       "\n",
       "    .dataframe tbody tr th {\n",
       "        vertical-align: top;\n",
       "    }\n",
       "\n",
       "    .dataframe thead th {\n",
       "        text-align: right;\n",
       "    }\n",
       "</style>\n",
       "<table border=\"1\" class=\"dataframe\">\n",
       "  <thead>\n",
       "    <tr style=\"text-align: right;\">\n",
       "      <th></th>\n",
       "      <th>name</th>\n",
       "      <th>position</th>\n",
       "      <th>age</th>\n",
       "      <th>origin_club</th>\n",
       "      <th>league_origin_club</th>\n",
       "      <th>country_origin_club</th>\n",
       "      <th>new_club</th>\n",
       "      <th>league_new_club</th>\n",
       "      <th>country_new_club</th>\n",
       "      <th>cost</th>\n",
       "      <th>date_of_transfer</th>\n",
       "    </tr>\n",
       "  </thead>\n",
       "  <tbody>\n",
       "    <tr>\n",
       "      <th>19252</th>\n",
       "      <td>Erling Haaland</td>\n",
       "      <td>Centre-Forward</td>\n",
       "      <td>21</td>\n",
       "      <td>Borussia Dortmund</td>\n",
       "      <td>Bundesliga</td>\n",
       "      <td>Germany</td>\n",
       "      <td>Manchester City</td>\n",
       "      <td>Premier League</td>\n",
       "      <td>England</td>\n",
       "      <td>150000000</td>\n",
       "      <td>2022-07-01</td>\n",
       "    </tr>\n",
       "    <tr>\n",
       "      <th>12700</th>\n",
       "      <td>Matthijs de Ligt</td>\n",
       "      <td>Centre-Back</td>\n",
       "      <td>22</td>\n",
       "      <td>Juventus FC</td>\n",
       "      <td>Serie A</td>\n",
       "      <td>Italy</td>\n",
       "      <td>Bayern Munich</td>\n",
       "      <td>Bundesliga</td>\n",
       "      <td>Germany</td>\n",
       "      <td>70000000</td>\n",
       "      <td>2022-07-19</td>\n",
       "    </tr>\n",
       "    <tr>\n",
       "      <th>19261</th>\n",
       "      <td>Sadio Mané</td>\n",
       "      <td>Left Winger</td>\n",
       "      <td>30</td>\n",
       "      <td>Liverpool FC</td>\n",
       "      <td>Premier League</td>\n",
       "      <td>England</td>\n",
       "      <td>Bayern Munich</td>\n",
       "      <td>Bundesliga</td>\n",
       "      <td>Germany</td>\n",
       "      <td>70000000</td>\n",
       "      <td>2022-07-01</td>\n",
       "    </tr>\n",
       "    <tr>\n",
       "      <th>19303</th>\n",
       "      <td>Romelu Lukaku</td>\n",
       "      <td>Centre-Forward</td>\n",
       "      <td>29</td>\n",
       "      <td>Chelsea FC</td>\n",
       "      <td>Premier League</td>\n",
       "      <td>England</td>\n",
       "      <td>Inter Milan</td>\n",
       "      <td>Serie A</td>\n",
       "      <td>Italy</td>\n",
       "      <td>70000000</td>\n",
       "      <td>2022-07-01</td>\n",
       "    </tr>\n",
       "    <tr>\n",
       "      <th>15126</th>\n",
       "      <td>Raheem Sterling</td>\n",
       "      <td>Left Winger</td>\n",
       "      <td>27</td>\n",
       "      <td>Manchester City</td>\n",
       "      <td>Premier League</td>\n",
       "      <td>England</td>\n",
       "      <td>Chelsea FC</td>\n",
       "      <td>Premier League</td>\n",
       "      <td>England</td>\n",
       "      <td>70000000</td>\n",
       "      <td>2022-07-13</td>\n",
       "    </tr>\n",
       "  </tbody>\n",
       "</table>\n",
       "</div>"
      ],
      "text/plain": [
       "                   name        position  age        origin_club  \\\n",
       "19252    Erling Haaland  Centre-Forward   21  Borussia Dortmund   \n",
       "12700  Matthijs de Ligt     Centre-Back   22        Juventus FC   \n",
       "19261        Sadio Mané     Left Winger   30       Liverpool FC   \n",
       "19303     Romelu Lukaku  Centre-Forward   29         Chelsea FC   \n",
       "15126   Raheem Sterling     Left Winger   27    Manchester City   \n",
       "\n",
       "      league_origin_club country_origin_club         new_club league_new_club  \\\n",
       "19252         Bundesliga             Germany  Manchester City  Premier League   \n",
       "12700            Serie A               Italy    Bayern Munich      Bundesliga   \n",
       "19261     Premier League             England    Bayern Munich      Bundesliga   \n",
       "19303     Premier League             England      Inter Milan         Serie A   \n",
       "15126     Premier League             England       Chelsea FC  Premier League   \n",
       "\n",
       "      country_new_club       cost date_of_transfer  \n",
       "19252          England  150000000       2022-07-01  \n",
       "12700          Germany   70000000       2022-07-19  \n",
       "19261          Germany   70000000       2022-07-01  \n",
       "19303            Italy   70000000       2022-07-01  \n",
       "15126          England   70000000       2022-07-13  "
      ]
     },
     "execution_count": 31,
     "metadata": {},
     "output_type": "execute_result"
    }
   ],
   "source": [
    "df.head()"
   ]
  },
  {
   "cell_type": "markdown",
   "id": "e4c2136f",
   "metadata": {},
   "source": [
    "### <font color='black'>Players That Were Only Purchased By The Top 5 leagues</font>"
   ]
  },
  {
   "cell_type": "code",
   "execution_count": 32,
   "id": "091c4ffa",
   "metadata": {},
   "outputs": [],
   "source": [
    "PremierLeague = df[(df['league_new_club']=='Premier League') & (df['country_new_club']== 'England')]\n",
    "\n",
    "Liga = df[(df['league_new_club']=='LaLiga') & (df['country_new_club']== 'Spain')]\n",
    "\n",
    "#EgyptianLeague = df[(df['league_origin_club']=='Premier League') & (df['country_origin_club']== 'Egypt')\n",
    " #   | (df['league_new_club']=='Premier League') & (df['country_new_club']== 'Egypt')]\n",
    "\n",
    "Ligue1 = df[(df['league_new_club']=='Ligue 1') & (df['country_new_club']== 'France')]\n",
    "\n",
    "\n",
    "SerieA = df[(df['league_new_club']=='Serie A') & (df['country_new_club']== 'Italy')]\n",
    "\n",
    "\n",
    "BundesLiga = df[(df['league_new_club']=='Bundesliga') & (df['country_new_club']== 'Germany')]\n"
   ]
  },
  {
   "cell_type": "code",
   "execution_count": 33,
   "id": "29801f66",
   "metadata": {
    "scrolled": true
   },
   "outputs": [
    {
     "data": {
      "text/html": [
       "<div>\n",
       "<style scoped>\n",
       "    .dataframe tbody tr th:only-of-type {\n",
       "        vertical-align: middle;\n",
       "    }\n",
       "\n",
       "    .dataframe tbody tr th {\n",
       "        vertical-align: top;\n",
       "    }\n",
       "\n",
       "    .dataframe thead th {\n",
       "        text-align: right;\n",
       "    }\n",
       "</style>\n",
       "<table border=\"1\" class=\"dataframe\">\n",
       "  <thead>\n",
       "    <tr style=\"text-align: right;\">\n",
       "      <th></th>\n",
       "      <th>name</th>\n",
       "      <th>position</th>\n",
       "      <th>age</th>\n",
       "      <th>origin_club</th>\n",
       "      <th>league_origin_club</th>\n",
       "      <th>country_origin_club</th>\n",
       "      <th>new_club</th>\n",
       "      <th>league_new_club</th>\n",
       "      <th>country_new_club</th>\n",
       "      <th>cost</th>\n",
       "      <th>date_of_transfer</th>\n",
       "    </tr>\n",
       "  </thead>\n",
       "  <tbody>\n",
       "    <tr>\n",
       "      <th>19252</th>\n",
       "      <td>Erling Haaland</td>\n",
       "      <td>Centre-Forward</td>\n",
       "      <td>21</td>\n",
       "      <td>Borussia Dortmund</td>\n",
       "      <td>Bundesliga</td>\n",
       "      <td>Germany</td>\n",
       "      <td>Manchester City</td>\n",
       "      <td>Premier League</td>\n",
       "      <td>England</td>\n",
       "      <td>150000000</td>\n",
       "      <td>2022-07-01</td>\n",
       "    </tr>\n",
       "    <tr>\n",
       "      <th>15126</th>\n",
       "      <td>Raheem Sterling</td>\n",
       "      <td>Left Winger</td>\n",
       "      <td>27</td>\n",
       "      <td>Manchester City</td>\n",
       "      <td>Premier League</td>\n",
       "      <td>England</td>\n",
       "      <td>Chelsea FC</td>\n",
       "      <td>Premier League</td>\n",
       "      <td>England</td>\n",
       "      <td>70000000</td>\n",
       "      <td>2022-07-13</td>\n",
       "    </tr>\n",
       "    <tr>\n",
       "      <th>19251</th>\n",
       "      <td>Darwin Núñez</td>\n",
       "      <td>Centre-Forward</td>\n",
       "      <td>23</td>\n",
       "      <td>SL Benfica</td>\n",
       "      <td>Liga Portugal</td>\n",
       "      <td>Portugal</td>\n",
       "      <td>Liverpool FC</td>\n",
       "      <td>Premier League</td>\n",
       "      <td>England</td>\n",
       "      <td>55000000</td>\n",
       "      <td>2022-07-01</td>\n",
       "    </tr>\n",
       "    <tr>\n",
       "      <th>18501</th>\n",
       "      <td>Kalvin Phillips</td>\n",
       "      <td>Defensive Midfield</td>\n",
       "      <td>26</td>\n",
       "      <td>Leeds United</td>\n",
       "      <td>Premier League</td>\n",
       "      <td>England</td>\n",
       "      <td>Manchester City</td>\n",
       "      <td>Premier League</td>\n",
       "      <td>England</td>\n",
       "      <td>50000000</td>\n",
       "      <td>2022-07-04</td>\n",
       "    </tr>\n",
       "    <tr>\n",
       "      <th>18500</th>\n",
       "      <td>Gabriel Jesus</td>\n",
       "      <td>Centre-Forward</td>\n",
       "      <td>25</td>\n",
       "      <td>Manchester City</td>\n",
       "      <td>Premier League</td>\n",
       "      <td>England</td>\n",
       "      <td>Arsenal FC</td>\n",
       "      <td>Premier League</td>\n",
       "      <td>England</td>\n",
       "      <td>50000000</td>\n",
       "      <td>2022-07-04</td>\n",
       "    </tr>\n",
       "    <tr>\n",
       "      <th>...</th>\n",
       "      <td>...</td>\n",
       "      <td>...</td>\n",
       "      <td>...</td>\n",
       "      <td>...</td>\n",
       "      <td>...</td>\n",
       "      <td>...</td>\n",
       "      <td>...</td>\n",
       "      <td>...</td>\n",
       "      <td>...</td>\n",
       "      <td>...</td>\n",
       "      <td>...</td>\n",
       "    </tr>\n",
       "    <tr>\n",
       "      <th>31035</th>\n",
       "      <td>Mihaita Nastase</td>\n",
       "      <td>Centre-Forward</td>\n",
       "      <td>22</td>\n",
       "      <td>ACS Recolta Gheorghe Doja</td>\n",
       "      <td>Romania</td>\n",
       "      <td>Romania</td>\n",
       "      <td>Without Club</td>\n",
       "      <td>Bundesliga</td>\n",
       "      <td>Germany</td>\n",
       "      <td>250</td>\n",
       "      <td>2022-07-01</td>\n",
       "    </tr>\n",
       "    <tr>\n",
       "      <th>29434</th>\n",
       "      <td>Adrian Popa</td>\n",
       "      <td>Defensive Midfield</td>\n",
       "      <td>33</td>\n",
       "      <td>CAO 1910 Oradea (2016 - 2022)</td>\n",
       "      <td>Romania</td>\n",
       "      <td>Romania</td>\n",
       "      <td>Without Club</td>\n",
       "      <td>Bundesliga</td>\n",
       "      <td>Germany</td>\n",
       "      <td>250</td>\n",
       "      <td>2022-07-01</td>\n",
       "    </tr>\n",
       "    <tr>\n",
       "      <th>29424</th>\n",
       "      <td>Zarko Grbovic</td>\n",
       "      <td>attack</td>\n",
       "      <td>27</td>\n",
       "      <td>FK Iskra Danilovgrad</td>\n",
       "      <td>1. CFL</td>\n",
       "      <td>Montenegro</td>\n",
       "      <td>Without Club</td>\n",
       "      <td>Bundesliga</td>\n",
       "      <td>Germany</td>\n",
       "      <td>250</td>\n",
       "      <td>2022-07-01</td>\n",
       "    </tr>\n",
       "    <tr>\n",
       "      <th>29431</th>\n",
       "      <td>Matay Birol</td>\n",
       "      <td>Goalkeeper</td>\n",
       "      <td>24</td>\n",
       "      <td>FC Gießen</td>\n",
       "      <td>Hessenliga</td>\n",
       "      <td>Germany</td>\n",
       "      <td>Without Club</td>\n",
       "      <td>Bundesliga</td>\n",
       "      <td>Germany</td>\n",
       "      <td>100</td>\n",
       "      <td>2022-07-01</td>\n",
       "    </tr>\n",
       "    <tr>\n",
       "      <th>31372</th>\n",
       "      <td>Lorenzo Santarelli</td>\n",
       "      <td>Goalkeeper</td>\n",
       "      <td>20</td>\n",
       "      <td>US Città di Pontedera</td>\n",
       "      <td>Serie C - B</td>\n",
       "      <td>Italy</td>\n",
       "      <td>Without Club</td>\n",
       "      <td>Bundesliga</td>\n",
       "      <td>Germany</td>\n",
       "      <td>100</td>\n",
       "      <td>2022-07-01</td>\n",
       "    </tr>\n",
       "  </tbody>\n",
       "</table>\n",
       "<p>1175 rows × 11 columns</p>\n",
       "</div>"
      ],
      "text/plain": [
       "                     name            position  age  \\\n",
       "19252      Erling Haaland      Centre-Forward   21   \n",
       "15126     Raheem Sterling         Left Winger   27   \n",
       "19251        Darwin Núñez      Centre-Forward   23   \n",
       "18501     Kalvin Phillips  Defensive Midfield   26   \n",
       "18500       Gabriel Jesus      Centre-Forward   25   \n",
       "...                   ...                 ...  ...   \n",
       "31035     Mihaita Nastase      Centre-Forward   22   \n",
       "29434         Adrian Popa  Defensive Midfield   33   \n",
       "29424       Zarko Grbovic              attack   27   \n",
       "29431         Matay Birol          Goalkeeper   24   \n",
       "31372  Lorenzo Santarelli          Goalkeeper   20   \n",
       "\n",
       "                         origin_club league_origin_club country_origin_club  \\\n",
       "19252              Borussia Dortmund         Bundesliga             Germany   \n",
       "15126                Manchester City     Premier League             England   \n",
       "19251                     SL Benfica      Liga Portugal            Portugal   \n",
       "18501                   Leeds United     Premier League             England   \n",
       "18500                Manchester City     Premier League             England   \n",
       "...                              ...                ...                 ...   \n",
       "31035      ACS Recolta Gheorghe Doja            Romania             Romania   \n",
       "29434  CAO 1910 Oradea (2016 - 2022)            Romania             Romania   \n",
       "29424           FK Iskra Danilovgrad             1. CFL          Montenegro   \n",
       "29431                      FC Gießen         Hessenliga             Germany   \n",
       "31372          US Città di Pontedera        Serie C - B               Italy   \n",
       "\n",
       "              new_club league_new_club country_new_club       cost  \\\n",
       "19252  Manchester City  Premier League          England  150000000   \n",
       "15126       Chelsea FC  Premier League          England   70000000   \n",
       "19251     Liverpool FC  Premier League          England   55000000   \n",
       "18501  Manchester City  Premier League          England   50000000   \n",
       "18500       Arsenal FC  Premier League          England   50000000   \n",
       "...                ...             ...              ...        ...   \n",
       "31035     Without Club      Bundesliga          Germany        250   \n",
       "29434     Without Club      Bundesliga          Germany        250   \n",
       "29424     Without Club      Bundesliga          Germany        250   \n",
       "29431     Without Club      Bundesliga          Germany        100   \n",
       "31372     Without Club      Bundesliga          Germany        100   \n",
       "\n",
       "      date_of_transfer  \n",
       "19252       2022-07-01  \n",
       "15126       2022-07-13  \n",
       "19251       2022-07-01  \n",
       "18501       2022-07-04  \n",
       "18500       2022-07-04  \n",
       "...                ...  \n",
       "31035       2022-07-01  \n",
       "29434       2022-07-01  \n",
       "29424       2022-07-01  \n",
       "29431       2022-07-01  \n",
       "31372       2022-07-01  \n",
       "\n",
       "[1175 rows x 11 columns]"
      ]
     },
     "execution_count": 33,
     "metadata": {},
     "output_type": "execute_result"
    }
   ],
   "source": [
    "TransfersTop5 = pd.concat([PremierLeague, Liga, Ligue1, SerieA, BundesLiga])\n",
    "TransfersTop5"
   ]
  },
  {
   "cell_type": "markdown",
   "id": "1d9204ef",
   "metadata": {},
   "source": [
    "### <font color='black'>Using Graph Plot To Demonstrate The Time Of Purchases In The Transfer Window</font>"
   ]
  },
  {
   "cell_type": "code",
   "execution_count": 39,
   "id": "b129d81a",
   "metadata": {},
   "outputs": [
    {
     "data": {
      "text/plain": [
       "<AxesSubplot:xlabel='date_of_transfer'>"
      ]
     },
     "execution_count": 39,
     "metadata": {},
     "output_type": "execute_result"
    },
    {
     "data": {
      "image/png": "[encoded data removed]",
      "text/plain": [
       "<Figure size 864x576 with 1 Axes>"
      ]
     },
     "metadata": {
      "needs_background": "light"
     },
     "output_type": "display_data"
    }
   ],
   "source": [
    "TransfersTop5.sort_index(inplace=True)\n",
    "TransfersTop5['cost'].rolling(25).mean().plot()"
   ]
  },
  {
   "cell_type": "markdown",
   "id": "606dc6eb",
   "metadata": {},
   "source": [
    "##### <font color='black'>Using Histogram To Demonstrate How Likely To Be Purchased By The Top 5 Leagues If Your Age Is Between 20 And 30</font>"
   ]
  },
  {
   "cell_type": "code",
   "execution_count": 48,
   "id": "6c4ecb9b",
   "metadata": {},
   "outputs": [
    {
     "ename": "NameError",
     "evalue": "name 'StrMethodFormatter' is not defined",
     "output_type": "error",
     "traceback": [
      "\u001b[1;31m---------------------------------------------------------------------------\u001b[0m",
      "\u001b[1;31mNameError\u001b[0m                                 Traceback (most recent call last)",
      "Input \u001b[1;32mIn [48]\u001b[0m, in \u001b[0;36m<cell line: 4>\u001b[1;34m()\u001b[0m\n\u001b[0;32m     26\u001b[0m x\u001b[38;5;241m.\u001b[39mset_ylabel(\u001b[38;5;124m\"\u001b[39m\u001b[38;5;124mNumber of players\u001b[39m\u001b[38;5;124m\"\u001b[39m, labelpad\u001b[38;5;241m=\u001b[39m\u001b[38;5;241m20\u001b[39m, weight\u001b[38;5;241m=\u001b[39m\u001b[38;5;124m'\u001b[39m\u001b[38;5;124mbold\u001b[39m\u001b[38;5;124m'\u001b[39m, size\u001b[38;5;241m=\u001b[39m\u001b[38;5;241m12\u001b[39m)\n\u001b[0;32m     28\u001b[0m \u001b[38;5;66;03m# Format y-axis label\u001b[39;00m\n\u001b[1;32m---> 29\u001b[0m x\u001b[38;5;241m.\u001b[39myaxis\u001b[38;5;241m.\u001b[39mset_major_formatter(\u001b[43mStrMethodFormatter\u001b[49m(\u001b[38;5;124m'\u001b[39m\u001b[38;5;132;01m{x:,g}\u001b[39;00m\u001b[38;5;124m'\u001b[39m))\n",
      "\u001b[1;31mNameError\u001b[0m: name 'StrMethodFormatter' is not defined"
     ]
    },
    {
     "data": {
      "image/png": "[encoded data removed]",
      "text/plain": [
       "<Figure size 864x576 with 1 Axes>"
      ]
     },
     "metadata": {
      "needs_background": "light"
     },
     "output_type": "display_data"
    }
   ],
   "source": [
    "ax = df.hist(column='age', bins=25, grid=False, figsize=(12,8), color='#86bf91', zorder=2, rwidth=0.9)\n",
    "\n",
    "ax = ax[0]\n",
    "for x in ax:\n",
    "\n",
    "    # Despine\n",
    "    x.spines['right'].set_visible(False)\n",
    "    x.spines['top'].set_visible(False)\n",
    "    x.spines['left'].set_visible(False)\n",
    "\n",
    "    # Switch off ticks\n",
    "    x.tick_params(axis=\"both\", which=\"both\", bottom=\"off\", top=\"off\", labelbottom=\"on\", left=\"off\", right=\"off\", labelleft=\"on\")\n",
    "\n",
    "    # Draw horizontal axis lines\n",
    "    vals = x.get_yticks()\n",
    "    for tick in vals:\n",
    "        x.axhline(y=tick, linestyle='dashed', alpha=0.4, color='#eeeeee', zorder=1)\n",
    "\n",
    "    # Remove title\n",
    "    x.set_title(\"\")\n",
    "\n",
    "    # Set x-axis label\n",
    "    x.set_xlabel(\"Age\", labelpad=20, weight='bold', size=12)\n",
    "\n",
    "    # Set y-axis label\n",
    "    x.set_ylabel(\"Number of players\", labelpad=20, weight='bold', size=12)\n",
    "\n",
    "    # Format y-axis label\n",
    "    x.yaxis.set_major_formatter(StrMethodFormatter('{x:,g}'))"
   ]
  },
  {
   "cell_type": "markdown",
   "id": "21244e6d",
   "metadata": {},
   "source": [
    "### <font color='black'>Showing The Most Expensive Players According To Their Positions Using Bar Plot</font>"
   ]
  },
  {
   "cell_type": "code",
   "execution_count": 35,
   "id": "af0e51e0",
   "metadata": {
    "scrolled": true
   },
   "outputs": [
    {
     "data": {
      "image/png": "[encoded data removed]",
      "text/plain": [
       "<Figure size 720x504 with 1 Axes>"
      ]
     },
     "metadata": {
      "needs_background": "light"
     },
     "output_type": "display_data"
    }
   ],
   "source": [
    "position = TransfersTop5['position']\n",
    "cost = TransfersTop5['cost']\n",
    " \n",
    "# Figure Size\n",
    "fig = plt.figure(figsize =(10, 7))\n",
    " \n",
    "# Horizontal Bar Plot\n",
    "plt.bar(position, cost)\n",
    "plt.xticks(rotation = 90)\n",
    " \n",
    "# Show Plot\n",
    "plt.show()"
   ]
  },
  {
   "cell_type": "markdown",
   "id": "6302a66a",
   "metadata": {},
   "source": [
    "### <font color='black'>Showing Which League Has Paid More During The Transfer Window</font>"
   ]
  },
  {
   "cell_type": "code",
   "execution_count": 37,
   "id": "e7649c7b",
   "metadata": {},
   "outputs": [
    {
     "data": {
      "image/png": "[encoded data removed]",
      "text/plain": [
       "<Figure size 864x576 with 1 Axes>"
      ]
     },
     "metadata": {
      "needs_background": "light"
     },
     "output_type": "display_data"
    }
   ],
   "source": [
    "labels = TransfersTop5['league_new_club']\n",
    "\n",
    "price = TransfersTop5['cost']\n",
    "\n",
    "sns.barplot(x=price,y=labels)\n",
    "\n",
    "plt.show()\n",
    "\n",
    "plt.show()"
   ]
  },
  {
   "cell_type": "code",
   "execution_count": null,
   "id": "d381a543",
   "metadata": {},
   "outputs": [],
   "source": []
  }
 ],
 "metadata": {
  "kernelspec": {
   "display_name": "Python 3 (ipykernel)",
   "language": "python",
   "name": "python3"
  },
  "language_info": {
   "codemirror_mode": {
    "name": "ipython",
    "version": 3
   },
   "file_extension": ".py",
   "mimetype": "text/x-python",
   "name": "python",
   "nbconvert_exporter": "python",
   "pygments_lexer": "ipython3",
   "version": "3.9.12"
  }
 },
 "nbformat": 4,
 "nbformat_minor": 5
}
